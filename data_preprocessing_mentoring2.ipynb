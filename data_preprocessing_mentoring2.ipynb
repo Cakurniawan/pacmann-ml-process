{
 "cells": [
  {
   "cell_type": "code",
   "execution_count": 2,
   "metadata": {},
   "outputs": [
    {
     "name": "stderr",
     "output_type": "stream",
     "text": [
      "c:\\Users\\lolcandra\\miniconda3\\envs\\mlproces-pacmann\\lib\\site-packages\\IPython\\core\\magics\\osm.py:417: UserWarning: This is now an optional IPython functionality, setting dhist requires you to install the `pickleshare` library.\n",
      "  self.shell.db['dhist'] = compress_dhist(dhist)[-100:]\n"
     ]
    },
    {
     "name": "stdout",
     "output_type": "stream",
     "text": [
      "D:\\Documents\\ai_engineer_pacmann\\ai_engineer_pacmann\\CANDRA_MLPROCESS\\src\n"
     ]
    }
   ],
   "source": [
    "# Change directory to the desired path\n",
    "%cd D:\\Documents\\ai_engineer_pacmann\\ai_engineer_pacmann\\CANDRA_MLPROCESS\\src\n",
    "\n",
    "import utils\n",
    "\n",
    "from utils import load_data\n",
    "from utils import split_input_output\n",
    "from utils import split_train_test\n",
    "from utils import serialize_data\n",
    "from utils import deserialize_data\n",
    "\n",
    "from copy import deepcopy\n",
    "from sklearn.preprocessing import OneHotEncoder\n",
    "import numpy as np\n",
    "import pandas as pd\n"
   ]
  },
  {
   "cell_type": "code",
   "execution_count": 3,
   "metadata": {},
   "outputs": [],
   "source": [
    "# Alamat file X dan y untuk di deserialize\n",
    "\n",
    "X_TRAIN_PATH = '..\\data\\interim\\X_train.pkl'\n",
    "Y_TRAIN_PATH = '..\\data\\interim\\y_train.pkl'\n",
    "X_TEST_PATH = '..\\data\\interim\\X_test.pkl'\n",
    "Y_TEST_PATH = '..\\data\\interim\\y_test.pkl'\n",
    "X_VAL_PATH = '..\\data\\interim\\X_valid.pkl'\n",
    "Y_VAL_PATH = '..\\data\\interim\\y_valid.pkl'"
   ]
  },
  {
   "cell_type": "code",
   "execution_count": 24,
   "metadata": {},
   "outputs": [],
   "source": [
    "# Melakukan deserialize data agar dapat digunakan didalam variable\n",
    "\n",
    "X_train = deserialize_data(path=X_TRAIN_PATH)\n",
    "y_train = deserialize_data(path=Y_TRAIN_PATH)\n",
    "X_test = deserialize_data(path=X_TEST_PATH)\n",
    "y_test = deserialize_data(path=Y_TEST_PATH)\n",
    "X_valid = deserialize_data(path=X_VAL_PATH)\n",
    "y_valid = deserialize_data(path=Y_VAL_PATH)"
   ]
  },
  {
   "cell_type": "code",
   "execution_count": 25,
   "metadata": {},
   "outputs": [
    {
     "data": {
      "text/html": [
       "<div>\n",
       "<style scoped>\n",
       "    .dataframe tbody tr th:only-of-type {\n",
       "        vertical-align: middle;\n",
       "    }\n",
       "\n",
       "    .dataframe tbody tr th {\n",
       "        vertical-align: top;\n",
       "    }\n",
       "\n",
       "    .dataframe thead th {\n",
       "        text-align: right;\n",
       "    }\n",
       "</style>\n",
       "<table border=\"1\" class=\"dataframe\">\n",
       "  <thead>\n",
       "    <tr style=\"text-align: right;\">\n",
       "      <th></th>\n",
       "      <th>person_age</th>\n",
       "      <th>person_income</th>\n",
       "      <th>person_home_ownership</th>\n",
       "      <th>person_emp_length</th>\n",
       "      <th>loan_intent</th>\n",
       "      <th>loan_grade</th>\n",
       "      <th>loan_amnt</th>\n",
       "      <th>loan_int_rate</th>\n",
       "      <th>loan_percent_income</th>\n",
       "      <th>cb_person_default_on_file</th>\n",
       "      <th>cb_person_cred_hist_length</th>\n",
       "    </tr>\n",
       "  </thead>\n",
       "  <tbody>\n",
       "    <tr>\n",
       "      <th>15884</th>\n",
       "      <td>25</td>\n",
       "      <td>241875</td>\n",
       "      <td>MORTGAGE</td>\n",
       "      <td>4.0</td>\n",
       "      <td>EDUCATION</td>\n",
       "      <td>A</td>\n",
       "      <td>16000</td>\n",
       "      <td>7.05</td>\n",
       "      <td>0.07</td>\n",
       "      <td>N</td>\n",
       "      <td>4</td>\n",
       "    </tr>\n",
       "    <tr>\n",
       "      <th>15138</th>\n",
       "      <td>21</td>\n",
       "      <td>18000</td>\n",
       "      <td>RENT</td>\n",
       "      <td>5.0</td>\n",
       "      <td>PERSONAL</td>\n",
       "      <td>B</td>\n",
       "      <td>1500</td>\n",
       "      <td>12.18</td>\n",
       "      <td>0.08</td>\n",
       "      <td>N</td>\n",
       "      <td>4</td>\n",
       "    </tr>\n",
       "    <tr>\n",
       "      <th>7474</th>\n",
       "      <td>25</td>\n",
       "      <td>53000</td>\n",
       "      <td>MORTGAGE</td>\n",
       "      <td>10.0</td>\n",
       "      <td>MEDICAL</td>\n",
       "      <td>B</td>\n",
       "      <td>16000</td>\n",
       "      <td>12.53</td>\n",
       "      <td>0.30</td>\n",
       "      <td>N</td>\n",
       "      <td>2</td>\n",
       "    </tr>\n",
       "    <tr>\n",
       "      <th>18212</th>\n",
       "      <td>28</td>\n",
       "      <td>16800</td>\n",
       "      <td>OWN</td>\n",
       "      <td>NaN</td>\n",
       "      <td>MEDICAL</td>\n",
       "      <td>C</td>\n",
       "      <td>5000</td>\n",
       "      <td>13.98</td>\n",
       "      <td>0.30</td>\n",
       "      <td>N</td>\n",
       "      <td>8</td>\n",
       "    </tr>\n",
       "    <tr>\n",
       "      <th>6493</th>\n",
       "      <td>25</td>\n",
       "      <td>50000</td>\n",
       "      <td>MORTGAGE</td>\n",
       "      <td>2.0</td>\n",
       "      <td>VENTURE</td>\n",
       "      <td>A</td>\n",
       "      <td>10000</td>\n",
       "      <td>7.90</td>\n",
       "      <td>0.20</td>\n",
       "      <td>N</td>\n",
       "      <td>2</td>\n",
       "    </tr>\n",
       "  </tbody>\n",
       "</table>\n",
       "</div>"
      ],
      "text/plain": [
       "       person_age  person_income person_home_ownership  person_emp_length  \\\n",
       "15884          25         241875              MORTGAGE                4.0   \n",
       "15138          21          18000                  RENT                5.0   \n",
       "7474           25          53000              MORTGAGE               10.0   \n",
       "18212          28          16800                   OWN                NaN   \n",
       "6493           25          50000              MORTGAGE                2.0   \n",
       "\n",
       "      loan_intent loan_grade  loan_amnt  loan_int_rate  loan_percent_income  \\\n",
       "15884   EDUCATION          A      16000           7.05                 0.07   \n",
       "15138    PERSONAL          B       1500          12.18                 0.08   \n",
       "7474      MEDICAL          B      16000          12.53                 0.30   \n",
       "18212     MEDICAL          C       5000          13.98                 0.30   \n",
       "6493      VENTURE          A      10000           7.90                 0.20   \n",
       "\n",
       "      cb_person_default_on_file  cb_person_cred_hist_length  \n",
       "15884                         N                           4  \n",
       "15138                         N                           4  \n",
       "7474                          N                           2  \n",
       "18212                         N                           8  \n",
       "6493                          N                           2  "
      ]
     },
     "execution_count": 25,
     "metadata": {},
     "output_type": "execute_result"
    }
   ],
   "source": [
    "X_train.head()"
   ]
  },
  {
   "cell_type": "code",
   "execution_count": 6,
   "metadata": {},
   "outputs": [
    {
     "data": {
      "text/plain": [
       "15884    0\n",
       "15138    1\n",
       "7474     0\n",
       "18212    1\n",
       "6493     0\n",
       "Name: loan_status, dtype: int64"
      ]
     },
     "execution_count": 6,
     "metadata": {},
     "output_type": "execute_result"
    }
   ],
   "source": [
    "y_train.head()"
   ]
  },
  {
   "cell_type": "code",
   "execution_count": 7,
   "metadata": {},
   "outputs": [
    {
     "data": {
      "text/html": [
       "<div>\n",
       "<style scoped>\n",
       "    .dataframe tbody tr th:only-of-type {\n",
       "        vertical-align: middle;\n",
       "    }\n",
       "\n",
       "    .dataframe tbody tr th {\n",
       "        vertical-align: top;\n",
       "    }\n",
       "\n",
       "    .dataframe thead th {\n",
       "        text-align: right;\n",
       "    }\n",
       "</style>\n",
       "<table border=\"1\" class=\"dataframe\">\n",
       "  <thead>\n",
       "    <tr style=\"text-align: right;\">\n",
       "      <th></th>\n",
       "      <th>person_age</th>\n",
       "      <th>person_income</th>\n",
       "      <th>person_home_ownership</th>\n",
       "      <th>person_emp_length</th>\n",
       "      <th>loan_intent</th>\n",
       "      <th>loan_grade</th>\n",
       "      <th>loan_amnt</th>\n",
       "      <th>loan_int_rate</th>\n",
       "      <th>loan_percent_income</th>\n",
       "      <th>cb_person_default_on_file</th>\n",
       "      <th>cb_person_cred_hist_length</th>\n",
       "    </tr>\n",
       "  </thead>\n",
       "  <tbody>\n",
       "    <tr>\n",
       "      <th>20439</th>\n",
       "      <td>30</td>\n",
       "      <td>31000</td>\n",
       "      <td>RENT</td>\n",
       "      <td>7.0</td>\n",
       "      <td>MEDICAL</td>\n",
       "      <td>D</td>\n",
       "      <td>4750</td>\n",
       "      <td>14.84</td>\n",
       "      <td>0.15</td>\n",
       "      <td>N</td>\n",
       "      <td>9</td>\n",
       "    </tr>\n",
       "    <tr>\n",
       "      <th>30809</th>\n",
       "      <td>36</td>\n",
       "      <td>60000</td>\n",
       "      <td>RENT</td>\n",
       "      <td>3.0</td>\n",
       "      <td>EDUCATION</td>\n",
       "      <td>A</td>\n",
       "      <td>9500</td>\n",
       "      <td>7.14</td>\n",
       "      <td>0.16</td>\n",
       "      <td>N</td>\n",
       "      <td>12</td>\n",
       "    </tr>\n",
       "    <tr>\n",
       "      <th>22978</th>\n",
       "      <td>29</td>\n",
       "      <td>33000</td>\n",
       "      <td>RENT</td>\n",
       "      <td>5.0</td>\n",
       "      <td>HOMEIMPROVEMENT</td>\n",
       "      <td>A</td>\n",
       "      <td>8000</td>\n",
       "      <td>5.79</td>\n",
       "      <td>0.24</td>\n",
       "      <td>N</td>\n",
       "      <td>8</td>\n",
       "    </tr>\n",
       "    <tr>\n",
       "      <th>19435</th>\n",
       "      <td>27</td>\n",
       "      <td>40000</td>\n",
       "      <td>RENT</td>\n",
       "      <td>3.0</td>\n",
       "      <td>PERSONAL</td>\n",
       "      <td>A</td>\n",
       "      <td>3000</td>\n",
       "      <td>7.05</td>\n",
       "      <td>0.07</td>\n",
       "      <td>N</td>\n",
       "      <td>8</td>\n",
       "    </tr>\n",
       "    <tr>\n",
       "      <th>31011</th>\n",
       "      <td>39</td>\n",
       "      <td>56000</td>\n",
       "      <td>RENT</td>\n",
       "      <td>16.0</td>\n",
       "      <td>DEBTCONSOLIDATION</td>\n",
       "      <td>C</td>\n",
       "      <td>10000</td>\n",
       "      <td>13.06</td>\n",
       "      <td>0.18</td>\n",
       "      <td>N</td>\n",
       "      <td>11</td>\n",
       "    </tr>\n",
       "  </tbody>\n",
       "</table>\n",
       "</div>"
      ],
      "text/plain": [
       "       person_age  person_income person_home_ownership  person_emp_length  \\\n",
       "20439          30          31000                  RENT                7.0   \n",
       "30809          36          60000                  RENT                3.0   \n",
       "22978          29          33000                  RENT                5.0   \n",
       "19435          27          40000                  RENT                3.0   \n",
       "31011          39          56000                  RENT               16.0   \n",
       "\n",
       "             loan_intent loan_grade  loan_amnt  loan_int_rate  \\\n",
       "20439            MEDICAL          D       4750          14.84   \n",
       "30809          EDUCATION          A       9500           7.14   \n",
       "22978    HOMEIMPROVEMENT          A       8000           5.79   \n",
       "19435           PERSONAL          A       3000           7.05   \n",
       "31011  DEBTCONSOLIDATION          C      10000          13.06   \n",
       "\n",
       "       loan_percent_income cb_person_default_on_file  \\\n",
       "20439                 0.15                         N   \n",
       "30809                 0.16                         N   \n",
       "22978                 0.24                         N   \n",
       "19435                 0.07                         N   \n",
       "31011                 0.18                         N   \n",
       "\n",
       "       cb_person_cred_hist_length  \n",
       "20439                           9  \n",
       "30809                          12  \n",
       "22978                           8  \n",
       "19435                           8  \n",
       "31011                          11  "
      ]
     },
     "execution_count": 7,
     "metadata": {},
     "output_type": "execute_result"
    }
   ],
   "source": [
    "X_test.head()"
   ]
  },
  {
   "cell_type": "markdown",
   "metadata": {},
   "source": [
    "# d. Buang Data duplicate X_train y_train\n"
   ]
  },
  {
   "cell_type": "code",
   "execution_count": 26,
   "metadata": {},
   "outputs": [],
   "source": [
    "def drop_duplicate_data(X, y):\n",
    "    \"\"\"\n",
    "    Fungsi untuk membuang data duplikat dari dataset.\n",
    "    \n",
    "    Parameters:\n",
    "    X : pd.DataFrame\n",
    "        DataFrame yang berisi data fitur.\n",
    "    y : pd.Series\n",
    "        Series yang berisi data target yang sesuai dengan data fitur pada X.\n",
    "    \n",
    "    Returns:\n",
    "    X : pd.DataFrame\n",
    "        DataFrame yang telah dibuang data duplikatnya.\n",
    "    y : pd.Series\n",
    "        Series yang telah disesuaikan dengan data fitur setelah membuang data duplikat.\n",
    "    \"\"\"\n",
    "    \n",
    "    # Validasi parameter X\n",
    "    if not isinstance(X, pd.DataFrame):\n",
    "        raise ValueError(\"Parameter X harus bertipe DataFrame.\")\n",
    "    \n",
    "    # Validasi parameter y\n",
    "    if not isinstance(y, pd.Series):\n",
    "        raise ValueError(\"Parameter y harus bertipe Series.\")\n",
    "    \n",
    "    print(\"Fungsi drop_duplicate_data: parameter telah divalidasi.\")\n",
    "    \n",
    "    # Copy data\n",
    "    X = X.copy()\n",
    "    y = y.copy()\n",
    "    \n",
    "    # Print shape sebelum dropping duplicate\n",
    "    print(f\"Fungsi drop_duplicate_data: shape dataset sebelum dropping duplicate adalah {X.shape}.\")\n",
    "    \n",
    "    # Pengecekan duplicate\n",
    "    X_duplicate = X[X.duplicated(keep=False)]\n",
    "    print(f\"Fungsi drop_duplicate_data: shape dari data yang duplicate adalah {X_duplicate.shape}.\")\n",
    "    \n",
    "    # Kalkulasi shape setelah drop duplicate\n",
    "    X_clean = (X.shape[0] - X_duplicate.shape[0], X.shape[1])\n",
    "    print(f\"Fungsi drop_duplicate_data: shape dataset setelah drop duplicate seharusnya adalah {X_clean}.\")\n",
    "    \n",
    "    # Drop duplicate\n",
    "    X.drop_duplicates(inplace=True)\n",
    "    \n",
    "    # Seleksi data y dengan index dari data X yang telah didrop duplicate\n",
    "    y = y[X.index]\n",
    "    \n",
    "    # Print shape setelah dropping duplicate\n",
    "    print(f\"Fungsi drop_duplicate_data: shape dataset setelah dropping duplicate adalah {X.shape}.\")\n",
    "    \n",
    "    return X, y"
   ]
  },
  {
   "cell_type": "code",
   "execution_count": 27,
   "metadata": {},
   "outputs": [
    {
     "name": "stdout",
     "output_type": "stream",
     "text": [
      "Fungsi drop_duplicate_data: parameter telah divalidasi.\n",
      "Fungsi drop_duplicate_data: shape dataset sebelum dropping duplicate adalah (26064, 11).\n",
      "Fungsi drop_duplicate_data: shape dari data yang duplicate adalah (192, 11).\n",
      "Fungsi drop_duplicate_data: shape dataset setelah drop duplicate seharusnya adalah (25872, 11).\n",
      "Fungsi drop_duplicate_data: shape dataset setelah dropping duplicate adalah (25968, 11).\n"
     ]
    }
   ],
   "source": [
    "# Memanggil fungsi untuk membuang data duplikat pada dataset X_train y_train\n",
    "X_train, y_train = drop_duplicate_data(X=X_train, y=y_train)\n"
   ]
  },
  {
   "cell_type": "markdown",
   "metadata": {},
   "source": [
    "# e. Imputasi Data Numerik"
   ]
  },
  {
   "cell_type": "code",
   "execution_count": 28,
   "metadata": {},
   "outputs": [],
   "source": [
    "#import pandas as pd\n",
    "#from copy import deepcopy\n",
    "\n",
    "def median_imputation(data, subset_data, fit):\n",
    "    \"\"\"\n",
    "    Fungsi untuk melakukan imputasi data numerik dengan nilai median.\n",
    "    \n",
    "    Parameters:\n",
    "    data : pd.DataFrame\n",
    "        DataFrame yang berisi data yang ingin diimputasi.\n",
    "    subset_data : list atau dict\n",
    "        Jika fit = True, subset_data adalah daftar nama kolom yang ingin dicari nilai mediannya.\n",
    "        Jika fit = False, subset_data adalah dict dengan nama kolom sebagai key dan nilai median sebagai value.\n",
    "    fit : bool\n",
    "        Jika True, melakukan kalkulasi nilai median dari tiap kolom yang dispesifikkan pada subset_data.\n",
    "        Jika False, melakukan imputasi pada data berdasarkan kalkulasi sebelumnya.\n",
    "        \n",
    "    Returns:\n",
    "    Jika fit = True, mengembalikan dict dengan nama kolom dan nilai median.\n",
    "    Jika fit = False, mengembalikan DataFrame dengan data yang telah diimputasi.\n",
    "    \"\"\"\n",
    "    \n",
    "    # Validasi parameter data\n",
    "    if not isinstance(data, pd.DataFrame):\n",
    "        raise RuntimeError(\"Fungsi median_imputation: parameter data haruslah bertipe DataFrame!\")\n",
    "    \n",
    "    # Validasi parameter fit dan subset_data\n",
    "    if fit == True:\n",
    "        if not isinstance(subset_data, list):\n",
    "            raise RuntimeError(\"Fungsi median_imputation: untuk nilai parameter fit = True, subset_data harus bertipe list dan berisi daftar nama kolom yang ingin dicari nilai mediannya guna menjadi data imputasi pada kolom tersebut.\")\n",
    "    elif fit == False:\n",
    "        if not isinstance(subset_data, dict):\n",
    "            raise RuntimeError(\"Fungsi median_imputation: untuk nilai parameter fit = False, subset_data harus bertipe dict dan berisi key yang merupakan nama kolom beserta value yang merupakan nilai median dari kolom tersebut.\")\n",
    "    else:\n",
    "        raise RuntimeError(\"Fungsi median_imputation: parameter fit haruslah bertipe boolean, bernilai True atau False.\")\n",
    "    \n",
    "    print(\"Fungsi median_imputation: parameter telah divalidasi.\")\n",
    "    \n",
    "    # Copy data\n",
    "    data = data.copy()\n",
    "    subset_data = deepcopy(subset_data)\n",
    "    \n",
    "    # Imputasi data\n",
    "    if fit == True:\n",
    "        imputation_data = {}\n",
    "        for subset in subset_data:\n",
    "            median_value = data[subset].median()\n",
    "            imputation_data[subset] = median_value\n",
    "        print(f\"Fungsi median_imputation: proses fitting telah selesai, berikut hasilnya {imputation_data}.\")\n",
    "        return imputation_data\n",
    "    else:\n",
    "        print(\"Fungsi median_imputation: informasi count na sebelum dilakukan imputasi:\")\n",
    "        print(data.isna().sum())\n",
    "        print(\"\")\n",
    "        data.fillna(subset_data, inplace=True)\n",
    "        print(\"Fungsi median_imputation: informasi count na setelah dilakukan imputasi:\")\n",
    "        print(data.isna().sum())\n",
    "        print(\"\")\n",
    "        return data"
   ]
  },
  {
   "cell_type": "code",
   "execution_count": 29,
   "metadata": {},
   "outputs": [
    {
     "name": "stdout",
     "output_type": "stream",
     "text": [
      "Fungsi median_imputation: parameter telah divalidasi.\n",
      "Fungsi median_imputation: proses fitting telah selesai, berikut hasilnya {'person_age': np.float64(26.0), 'person_income': np.float64(55000.0), 'person_emp_length': np.float64(4.0), 'loan_amnt': np.float64(8000.0), 'loan_int_rate': np.float64(10.99), 'loan_percent_income': np.float64(0.15), 'cb_person_cred_hist_length': np.float64(4.0)}.\n"
     ]
    }
   ],
   "source": [
    "# Menentukan subset_data\n",
    "subset_data = ['person_age' , 'person_income', 'person_emp_length', 'loan_amnt', 'loan_int_rate', 'loan_percent_income', 'cb_person_cred_hist_length']\n",
    "\n",
    "# Panggil fungsi median_imputation() untuk fitting\n",
    "subset_data = median_imputation(X_train, subset_data, fit=True)"
   ]
  },
  {
   "cell_type": "code",
   "execution_count": 30,
   "metadata": {},
   "outputs": [
    {
     "name": "stdout",
     "output_type": "stream",
     "text": [
      "Fungsi median_imputation: parameter telah divalidasi.\n",
      "Fungsi median_imputation: informasi count na sebelum dilakukan imputasi:\n",
      "person_age                       0\n",
      "person_income                    0\n",
      "person_home_ownership            0\n",
      "person_emp_length              734\n",
      "loan_intent                      0\n",
      "loan_grade                       0\n",
      "loan_amnt                        0\n",
      "loan_int_rate                 2491\n",
      "loan_percent_income              0\n",
      "cb_person_default_on_file        0\n",
      "cb_person_cred_hist_length       0\n",
      "dtype: int64\n",
      "\n",
      "Fungsi median_imputation: informasi count na setelah dilakukan imputasi:\n",
      "person_age                    0\n",
      "person_income                 0\n",
      "person_home_ownership         0\n",
      "person_emp_length             0\n",
      "loan_intent                   0\n",
      "loan_grade                    0\n",
      "loan_amnt                     0\n",
      "loan_int_rate                 0\n",
      "loan_percent_income           0\n",
      "cb_person_default_on_file     0\n",
      "cb_person_cred_hist_length    0\n",
      "dtype: int64\n",
      "\n"
     ]
    }
   ],
   "source": [
    "# Panggil fungsi median_imputation() untuk imputasi pada X_train\n",
    "X_train = median_imputation(X_train, subset_data, fit=False)"
   ]
  },
  {
   "cell_type": "code",
   "execution_count": 31,
   "metadata": {},
   "outputs": [
    {
     "name": "stdout",
     "output_type": "stream",
     "text": [
      "Fungsi median_imputation: parameter telah divalidasi.\n",
      "Fungsi median_imputation: informasi count na sebelum dilakukan imputasi:\n",
      "person_age                      0\n",
      "person_income                   0\n",
      "person_home_ownership           0\n",
      "person_emp_length              77\n",
      "loan_intent                     0\n",
      "loan_grade                      0\n",
      "loan_amnt                       0\n",
      "loan_int_rate                 303\n",
      "loan_percent_income             0\n",
      "cb_person_default_on_file       0\n",
      "cb_person_cred_hist_length      0\n",
      "dtype: int64\n",
      "\n",
      "Fungsi median_imputation: informasi count na setelah dilakukan imputasi:\n",
      "person_age                    0\n",
      "person_income                 0\n",
      "person_home_ownership         0\n",
      "person_emp_length             0\n",
      "loan_intent                   0\n",
      "loan_grade                    0\n",
      "loan_amnt                     0\n",
      "loan_int_rate                 0\n",
      "loan_percent_income           0\n",
      "cb_person_default_on_file     0\n",
      "cb_person_cred_hist_length    0\n",
      "dtype: int64\n",
      "\n"
     ]
    }
   ],
   "source": [
    "# Panggil fungsi median_imputation() untuk imputasi pada X_test\n",
    "X_test = median_imputation(X_test, subset_data, fit=False)"
   ]
  },
  {
   "cell_type": "code",
   "execution_count": 32,
   "metadata": {},
   "outputs": [
    {
     "name": "stdout",
     "output_type": "stream",
     "text": [
      "Fungsi median_imputation: parameter telah divalidasi.\n",
      "Fungsi median_imputation: informasi count na sebelum dilakukan imputasi:\n",
      "person_age                      0\n",
      "person_income                   0\n",
      "person_home_ownership           0\n",
      "person_emp_length              80\n",
      "loan_intent                     0\n",
      "loan_grade                      0\n",
      "loan_amnt                       0\n",
      "loan_int_rate                 312\n",
      "loan_percent_income             0\n",
      "cb_person_default_on_file       0\n",
      "cb_person_cred_hist_length      0\n",
      "dtype: int64\n",
      "\n",
      "Fungsi median_imputation: informasi count na setelah dilakukan imputasi:\n",
      "person_age                    0\n",
      "person_income                 0\n",
      "person_home_ownership         0\n",
      "person_emp_length             0\n",
      "loan_intent                   0\n",
      "loan_grade                    0\n",
      "loan_amnt                     0\n",
      "loan_int_rate                 0\n",
      "loan_percent_income           0\n",
      "cb_person_default_on_file     0\n",
      "cb_person_cred_hist_length    0\n",
      "dtype: int64\n",
      "\n"
     ]
    }
   ],
   "source": [
    "# Panggil fungsi median_imputation() untuk imputasi pada X_valid\n",
    "X_valid = median_imputation(X_valid, subset_data, fit=False)"
   ]
  },
  {
   "cell_type": "markdown",
   "metadata": {},
   "source": [
    "# f. Encoding data kategorikal - Fit OHE"
   ]
  },
  {
   "cell_type": "code",
   "execution_count": 40,
   "metadata": {},
   "outputs": [],
   "source": [
    "# Fungsi untuk membuat OneHotEncoder dan menyimpannya ke directory computer\n",
    "def create_onehot_encoder(categories, path):\n",
    "    \"\"\"\n",
    "    Fungsi untuk membuat OneHotEncoder dan menyimpannya ke directory.\n",
    "    \n",
    "    Parameters:\n",
    "    categories : list\n",
    "        Daftar kategorik yang akan dibuat encodernya.\n",
    "    path : str\n",
    "        Lokasi pada disk komputer dimana encoder yang dibuat akan disimpan.\n",
    "        \n",
    "    Returns:\n",
    "    ohe : OneHotEncoder\n",
    "        Instance dari OneHotEncoder yang telah difit dengan data kategori.\n",
    "    \"\"\"\n",
    "    \n",
    "    # Validasi parameter categories\n",
    "    if not isinstance(categories, list):\n",
    "        raise RuntimeError(\"Fungsi create_onehot_encoder: parameter categories haruslah bertipe list, berisi kategori yang akan dibuat encodernya.\")\n",
    "    \n",
    "    # Validasi parameter path\n",
    "    if not isinstance(path, str):\n",
    "        raise RuntimeError(\"Fungsi create_onehot_encoder: parameter path haruslah bertipe string, berisi lokasi pada disk komputer dimana encoder akan disimpan.\")\n",
    "    \n",
    "    # Buat instance OneHotEncoder\n",
    "    ohe = OneHotEncoder(handle_unknown='ignore')\n",
    "    \n",
    "    # Melakukan fitting encoder\n",
    "    categories_array = np.array(categories).reshape(-1, 1)\n",
    "    ohe.fit(categories_array)\n",
    "    \n",
    "    # Menyimpan encoder ke disk\n",
    "    serialize_data(ohe, path)\n",
    "    \n",
    "    # Print kategori yang telah dipelajari\n",
    "    learned_categories = ohe.categories_[0].tolist()\n",
    "    print(f\"Kategori yang telah dipelajari adalah {learned_categories}\")\n",
    "    \n",
    "    return ohe"
   ]
  },
  {
   "cell_type": "code",
   "execution_count": 38,
   "metadata": {},
   "outputs": [
    {
     "name": "stdout",
     "output_type": "stream",
     "text": [
      "['MORTGAGE' 'RENT' 'OWN' 'OTHER']\n",
      "['EDUCATION' 'PERSONAL' 'MEDICAL' 'VENTURE' 'HOMEIMPROVEMENT'\n",
      " 'DEBTCONSOLIDATION']\n",
      "['A' 'B' 'C' 'D' 'F' 'E' 'G']\n",
      "['N' 'Y']\n"
     ]
    }
   ],
   "source": [
    "print(X_train['person_home_ownership'].unique())\n",
    "print(X_train['loan_intent'].unique())\n",
    "print(X_train['loan_grade'].unique())\n",
    "print(X_train['cb_person_default_on_file'].unique())\n"
   ]
  },
  {
   "cell_type": "code",
   "execution_count": 43,
   "metadata": {},
   "outputs": [
    {
     "name": "stdout",
     "output_type": "stream",
     "text": [
      "Kategori yang telah dipelajari adalah ['MORTGAGERENTOWNOTHER']\n",
      "Kategori yang telah dipelajari adalah ['DEBTCONSOLIDATION', 'EDUCATION', 'HOMEIMPROVEMENT', 'MEDICAL', 'PERSONAL', 'VENTURE']\n",
      "Kategori yang telah dipelajari adalah ['A', 'B', 'C', 'D', 'E', 'F', 'G']\n",
      "Kategori yang telah dipelajari adalah ['N', 'Y']\n"
     ]
    }
   ],
   "source": [
    "# Daftar kategorik dari kolom masing-masing\n",
    "person_home_ownership = ['MORTGAGE' 'RENT' 'OWN' 'OTHER']\n",
    "loan_intent = ['EDUCATION','PERSONAL','MEDICAL','VENTURE','HOMEIMPROVEMENT','DEBTCONSOLIDATION']\n",
    "loan_grade = ['A', 'B', 'C', 'D', 'F', 'E', 'G']\n",
    "cb_person_default_on_file = ['N', 'Y']\n",
    "\n",
    "\n",
    "# Membuat encoder untuk masing-masing kategorik dan menyimpannya\n",
    "ohe_home_ownership = create_onehot_encoder(person_home_ownership, '../models/ohe_home_ownership.pkl')\n",
    "ohe_loan_intent = create_onehot_encoder(loan_intent, '../models/ohe_loan_intent.pkl')\n",
    "ohe_loan_grade = create_onehot_encoder(loan_grade, '../models/ohe_loan_grade.pkl')\n",
    "ohe_default_on_file = create_onehot_encoder(cb_person_default_on_file, '../models/ohe_default_on_file.pkl')"
   ]
  },
  {
   "cell_type": "code",
   "execution_count": 42,
   "metadata": {},
   "outputs": [
    {
     "data": {
      "text/plain": [
       "'D:\\\\Documents\\\\ai_engineer_pacmann\\\\ai_engineer_pacmann\\\\CANDRA_MLPROCESS\\\\src'"
      ]
     },
     "execution_count": 42,
     "metadata": {},
     "output_type": "execute_result"
    }
   ],
   "source": [
    "%pwd"
   ]
  },
  {
   "cell_type": "markdown",
   "metadata": {},
   "source": [
    "# Transform OHE"
   ]
  },
  {
   "cell_type": "code",
   "execution_count": 44,
   "metadata": {},
   "outputs": [],
   "source": [
    "def ohe_transform(dataset, subset, prefix, ohe):\n",
    "    \"\"\"\n",
    "    Function to apply OneHotEncoder to a specified column in a dataset.\n",
    "    \n",
    "    Parameters:\n",
    "    dataset : pd.DataFrame\n",
    "        The dataset to which encoding will be applied.\n",
    "    subset : str\n",
    "        The name of the column in the dataset to be encoded.\n",
    "    prefix : str\n",
    "        The prefix to be added to the names of the new encoded columns.\n",
    "    ohe : OneHotEncoder\n",
    "        The OneHotEncoder instance that has been fitted to the categorical data.\n",
    "        \n",
    "    Returns:\n",
    "    dataset : pd.DataFrame\n",
    "        The dataset with the encoded column.\n",
    "    \"\"\"\n",
    "    \n",
    "    # Validate parameters\n",
    "    if not isinstance(dataset, pd.DataFrame):\n",
    "        raise RuntimeError(\"Fungsi ohe_transform: parameter dataset harus bertipe DataFrame!\")\n",
    "    \n",
    "    if not isinstance(ohe, OneHotEncoder):\n",
    "        raise RuntimeError(\"Fungsi ohe_transform: parameter ohe harus bertipe OneHotEncoder!\")\n",
    "    \n",
    "    if not isinstance(prefix, str):\n",
    "        raise RuntimeError(\"Fungsi ohe_transform: parameter prefix harus bertipe str!\")\n",
    "    \n",
    "    if not isinstance(subset, str):\n",
    "        raise RuntimeError(\"Fungsi ohe_transform: parameter subset harus bertipe str!\")\n",
    "    \n",
    "    try:\n",
    "        dataset.columns.tolist().index(subset)\n",
    "    except ValueError:\n",
    "        raise RuntimeError(\"Fungsi ohe_transform: parameter subset string namun data tidak ditemukan dalam daftar kolom yang terdapat pada parameter dataset.\")\n",
    "    \n",
    "    print(\"Fungsi ohe_transform: parameter telah divalidasi.\")\n",
    "    \n",
    "    # Duplicate the dataset to avoid modifying the original data\n",
    "    dataset = dataset.copy()\n",
    "    \n",
    "    print(f\"Fungsi ohe_transform: daftar nama kolom sebelum dilakukan pengkodean adalah {list(dataset.columns)}.\")\n",
    "    \n",
    "    # Create new column names for the encoded columns\n",
    "    col_names = [f\"{prefix}_{col_name}\" for col_name in ohe.categories_[0].tolist()]\n",
    "    \n",
    "    # Perform encoding\n",
    "    encoded = pd.DataFrame(ohe.transform(dataset[[subset]]).toarray(), columns=col_names, index=dataset.index)\n",
    "    \n",
    "    # Concatenate the original dataset with the new encoded columns\n",
    "    dataset = pd.concat([dataset, encoded], axis=1)\n",
    "    \n",
    "    # Drop the original column that was encoded\n",
    "    dataset.drop(columns=[subset], inplace=True)\n",
    "    \n",
    "    print(f\"Fungsi ohe_transform: daftar nama kolom setelah dilakukan pengkodean adalah {list(dataset.columns)}.\")\n",
    "    \n",
    "    return dataset\n"
   ]
  },
  {
   "cell_type": "code",
   "execution_count": 45,
   "metadata": {},
   "outputs": [
    {
     "name": "stdout",
     "output_type": "stream",
     "text": [
      "Fungsi ohe_transform: parameter telah divalidasi.\n",
      "Fungsi ohe_transform: daftar nama kolom sebelum dilakukan pengkodean adalah ['person_age', 'person_income', 'person_home_ownership', 'person_emp_length', 'loan_intent', 'loan_grade', 'loan_amnt', 'loan_int_rate', 'loan_percent_income', 'cb_person_default_on_file', 'cb_person_cred_hist_length'].\n",
      "Fungsi ohe_transform: daftar nama kolom setelah dilakukan pengkodean adalah ['person_age', 'person_income', 'person_emp_length', 'loan_intent', 'loan_grade', 'loan_amnt', 'loan_int_rate', 'loan_percent_income', 'cb_person_default_on_file', 'cb_person_cred_hist_length', 'home_ownership_MORTGAGERENTOWNOTHER'].\n",
      "Fungsi ohe_transform: parameter telah divalidasi.\n",
      "Fungsi ohe_transform: daftar nama kolom sebelum dilakukan pengkodean adalah ['person_age', 'person_income', 'person_emp_length', 'loan_intent', 'loan_grade', 'loan_amnt', 'loan_int_rate', 'loan_percent_income', 'cb_person_default_on_file', 'cb_person_cred_hist_length', 'home_ownership_MORTGAGERENTOWNOTHER'].\n",
      "Fungsi ohe_transform: daftar nama kolom setelah dilakukan pengkodean adalah ['person_age', 'person_income', 'person_emp_length', 'loan_grade', 'loan_amnt', 'loan_int_rate', 'loan_percent_income', 'cb_person_default_on_file', 'cb_person_cred_hist_length', 'home_ownership_MORTGAGERENTOWNOTHER', 'loan_intent_DEBTCONSOLIDATION', 'loan_intent_EDUCATION', 'loan_intent_HOMEIMPROVEMENT', 'loan_intent_MEDICAL', 'loan_intent_PERSONAL', 'loan_intent_VENTURE'].\n",
      "Fungsi ohe_transform: parameter telah divalidasi.\n",
      "Fungsi ohe_transform: daftar nama kolom sebelum dilakukan pengkodean adalah ['person_age', 'person_income', 'person_emp_length', 'loan_grade', 'loan_amnt', 'loan_int_rate', 'loan_percent_income', 'cb_person_default_on_file', 'cb_person_cred_hist_length', 'home_ownership_MORTGAGERENTOWNOTHER', 'loan_intent_DEBTCONSOLIDATION', 'loan_intent_EDUCATION', 'loan_intent_HOMEIMPROVEMENT', 'loan_intent_MEDICAL', 'loan_intent_PERSONAL', 'loan_intent_VENTURE'].\n",
      "Fungsi ohe_transform: daftar nama kolom setelah dilakukan pengkodean adalah ['person_age', 'person_income', 'person_emp_length', 'loan_amnt', 'loan_int_rate', 'loan_percent_income', 'cb_person_default_on_file', 'cb_person_cred_hist_length', 'home_ownership_MORTGAGERENTOWNOTHER', 'loan_intent_DEBTCONSOLIDATION', 'loan_intent_EDUCATION', 'loan_intent_HOMEIMPROVEMENT', 'loan_intent_MEDICAL', 'loan_intent_PERSONAL', 'loan_intent_VENTURE', 'loan_grade_A', 'loan_grade_B', 'loan_grade_C', 'loan_grade_D', 'loan_grade_E', 'loan_grade_F', 'loan_grade_G'].\n",
      "Fungsi ohe_transform: parameter telah divalidasi.\n",
      "Fungsi ohe_transform: daftar nama kolom sebelum dilakukan pengkodean adalah ['person_age', 'person_income', 'person_emp_length', 'loan_amnt', 'loan_int_rate', 'loan_percent_income', 'cb_person_default_on_file', 'cb_person_cred_hist_length', 'home_ownership_MORTGAGERENTOWNOTHER', 'loan_intent_DEBTCONSOLIDATION', 'loan_intent_EDUCATION', 'loan_intent_HOMEIMPROVEMENT', 'loan_intent_MEDICAL', 'loan_intent_PERSONAL', 'loan_intent_VENTURE', 'loan_grade_A', 'loan_grade_B', 'loan_grade_C', 'loan_grade_D', 'loan_grade_E', 'loan_grade_F', 'loan_grade_G'].\n",
      "Fungsi ohe_transform: daftar nama kolom setelah dilakukan pengkodean adalah ['person_age', 'person_income', 'person_emp_length', 'loan_amnt', 'loan_int_rate', 'loan_percent_income', 'cb_person_cred_hist_length', 'home_ownership_MORTGAGERENTOWNOTHER', 'loan_intent_DEBTCONSOLIDATION', 'loan_intent_EDUCATION', 'loan_intent_HOMEIMPROVEMENT', 'loan_intent_MEDICAL', 'loan_intent_PERSONAL', 'loan_intent_VENTURE', 'loan_grade_A', 'loan_grade_B', 'loan_grade_C', 'loan_grade_D', 'loan_grade_E', 'loan_grade_F', 'loan_grade_G', 'default_onfile_N', 'default_onfile_Y'].\n"
     ]
    },
    {
     "name": "stderr",
     "output_type": "stream",
     "text": [
      "c:\\Users\\lolcandra\\miniconda3\\envs\\mlproces-pacmann\\lib\\site-packages\\sklearn\\base.py:486: UserWarning: X has feature names, but OneHotEncoder was fitted without feature names\n",
      "  warnings.warn(\n",
      "c:\\Users\\lolcandra\\miniconda3\\envs\\mlproces-pacmann\\lib\\site-packages\\sklearn\\base.py:486: UserWarning: X has feature names, but OneHotEncoder was fitted without feature names\n",
      "  warnings.warn(\n",
      "c:\\Users\\lolcandra\\miniconda3\\envs\\mlproces-pacmann\\lib\\site-packages\\sklearn\\base.py:486: UserWarning: X has feature names, but OneHotEncoder was fitted without feature names\n",
      "  warnings.warn(\n",
      "c:\\Users\\lolcandra\\miniconda3\\envs\\mlproces-pacmann\\lib\\site-packages\\sklearn\\base.py:486: UserWarning: X has feature names, but OneHotEncoder was fitted without feature names\n",
      "  warnings.warn(\n"
     ]
    }
   ],
   "source": [
    "# Encoding untuk X_train\n",
    "X_train = ohe_transform(X_train, \"person_home_ownership\", \"home_ownership\", ohe_home_ownership)\n",
    "X_train = ohe_transform(X_train, \"loan_intent\", \"loan_intent\", ohe_loan_intent)\n",
    "X_train = ohe_transform(X_train, \"loan_grade\", \"loan_grade\", ohe_loan_grade)\n",
    "X_train = ohe_transform(X_train, \"cb_person_default_on_file\", \"default_onfile\", ohe_default_on_file)"
   ]
  },
  {
   "cell_type": "code",
   "execution_count": 46,
   "metadata": {},
   "outputs": [
    {
     "name": "stdout",
     "output_type": "stream",
     "text": [
      "Fungsi ohe_transform: parameter telah divalidasi.\n",
      "Fungsi ohe_transform: daftar nama kolom sebelum dilakukan pengkodean adalah ['person_age', 'person_income', 'person_home_ownership', 'person_emp_length', 'loan_intent', 'loan_grade', 'loan_amnt', 'loan_int_rate', 'loan_percent_income', 'cb_person_default_on_file', 'cb_person_cred_hist_length'].\n",
      "Fungsi ohe_transform: daftar nama kolom setelah dilakukan pengkodean adalah ['person_age', 'person_income', 'person_emp_length', 'loan_intent', 'loan_grade', 'loan_amnt', 'loan_int_rate', 'loan_percent_income', 'cb_person_default_on_file', 'cb_person_cred_hist_length', 'home_ownership_MORTGAGERENTOWNOTHER'].\n",
      "Fungsi ohe_transform: parameter telah divalidasi.\n",
      "Fungsi ohe_transform: daftar nama kolom sebelum dilakukan pengkodean adalah ['person_age', 'person_income', 'person_emp_length', 'loan_intent', 'loan_grade', 'loan_amnt', 'loan_int_rate', 'loan_percent_income', 'cb_person_default_on_file', 'cb_person_cred_hist_length', 'home_ownership_MORTGAGERENTOWNOTHER'].\n",
      "Fungsi ohe_transform: daftar nama kolom setelah dilakukan pengkodean adalah ['person_age', 'person_income', 'person_emp_length', 'loan_grade', 'loan_amnt', 'loan_int_rate', 'loan_percent_income', 'cb_person_default_on_file', 'cb_person_cred_hist_length', 'home_ownership_MORTGAGERENTOWNOTHER', 'loan_intent_DEBTCONSOLIDATION', 'loan_intent_EDUCATION', 'loan_intent_HOMEIMPROVEMENT', 'loan_intent_MEDICAL', 'loan_intent_PERSONAL', 'loan_intent_VENTURE'].\n",
      "Fungsi ohe_transform: parameter telah divalidasi.\n",
      "Fungsi ohe_transform: daftar nama kolom sebelum dilakukan pengkodean adalah ['person_age', 'person_income', 'person_emp_length', 'loan_grade', 'loan_amnt', 'loan_int_rate', 'loan_percent_income', 'cb_person_default_on_file', 'cb_person_cred_hist_length', 'home_ownership_MORTGAGERENTOWNOTHER', 'loan_intent_DEBTCONSOLIDATION', 'loan_intent_EDUCATION', 'loan_intent_HOMEIMPROVEMENT', 'loan_intent_MEDICAL', 'loan_intent_PERSONAL', 'loan_intent_VENTURE'].\n",
      "Fungsi ohe_transform: daftar nama kolom setelah dilakukan pengkodean adalah ['person_age', 'person_income', 'person_emp_length', 'loan_amnt', 'loan_int_rate', 'loan_percent_income', 'cb_person_default_on_file', 'cb_person_cred_hist_length', 'home_ownership_MORTGAGERENTOWNOTHER', 'loan_intent_DEBTCONSOLIDATION', 'loan_intent_EDUCATION', 'loan_intent_HOMEIMPROVEMENT', 'loan_intent_MEDICAL', 'loan_intent_PERSONAL', 'loan_intent_VENTURE', 'loan_grade_A', 'loan_grade_B', 'loan_grade_C', 'loan_grade_D', 'loan_grade_E', 'loan_grade_F', 'loan_grade_G'].\n",
      "Fungsi ohe_transform: parameter telah divalidasi.\n",
      "Fungsi ohe_transform: daftar nama kolom sebelum dilakukan pengkodean adalah ['person_age', 'person_income', 'person_emp_length', 'loan_amnt', 'loan_int_rate', 'loan_percent_income', 'cb_person_default_on_file', 'cb_person_cred_hist_length', 'home_ownership_MORTGAGERENTOWNOTHER', 'loan_intent_DEBTCONSOLIDATION', 'loan_intent_EDUCATION', 'loan_intent_HOMEIMPROVEMENT', 'loan_intent_MEDICAL', 'loan_intent_PERSONAL', 'loan_intent_VENTURE', 'loan_grade_A', 'loan_grade_B', 'loan_grade_C', 'loan_grade_D', 'loan_grade_E', 'loan_grade_F', 'loan_grade_G'].\n",
      "Fungsi ohe_transform: daftar nama kolom setelah dilakukan pengkodean adalah ['person_age', 'person_income', 'person_emp_length', 'loan_amnt', 'loan_int_rate', 'loan_percent_income', 'cb_person_cred_hist_length', 'home_ownership_MORTGAGERENTOWNOTHER', 'loan_intent_DEBTCONSOLIDATION', 'loan_intent_EDUCATION', 'loan_intent_HOMEIMPROVEMENT', 'loan_intent_MEDICAL', 'loan_intent_PERSONAL', 'loan_intent_VENTURE', 'loan_grade_A', 'loan_grade_B', 'loan_grade_C', 'loan_grade_D', 'loan_grade_E', 'loan_grade_F', 'loan_grade_G', 'default_onfile_N', 'default_onfile_Y'].\n"
     ]
    },
    {
     "name": "stderr",
     "output_type": "stream",
     "text": [
      "c:\\Users\\lolcandra\\miniconda3\\envs\\mlproces-pacmann\\lib\\site-packages\\sklearn\\base.py:486: UserWarning: X has feature names, but OneHotEncoder was fitted without feature names\n",
      "  warnings.warn(\n",
      "c:\\Users\\lolcandra\\miniconda3\\envs\\mlproces-pacmann\\lib\\site-packages\\sklearn\\base.py:486: UserWarning: X has feature names, but OneHotEncoder was fitted without feature names\n",
      "  warnings.warn(\n",
      "c:\\Users\\lolcandra\\miniconda3\\envs\\mlproces-pacmann\\lib\\site-packages\\sklearn\\base.py:486: UserWarning: X has feature names, but OneHotEncoder was fitted without feature names\n",
      "  warnings.warn(\n",
      "c:\\Users\\lolcandra\\miniconda3\\envs\\mlproces-pacmann\\lib\\site-packages\\sklearn\\base.py:486: UserWarning: X has feature names, but OneHotEncoder was fitted without feature names\n",
      "  warnings.warn(\n"
     ]
    }
   ],
   "source": [
    "# Encoding untuk X_test\n",
    "X_test = ohe_transform(X_test, \"person_home_ownership\", \"home_ownership\", ohe_home_ownership)\n",
    "X_test = ohe_transform(X_test, \"loan_intent\", \"loan_intent\", ohe_loan_intent)\n",
    "X_test = ohe_transform(X_test, \"loan_grade\", \"loan_grade\", ohe_loan_grade)\n",
    "X_test = ohe_transform(X_test, \"cb_person_default_on_file\", \"default_onfile\", ohe_default_on_file)"
   ]
  },
  {
   "cell_type": "code",
   "execution_count": 47,
   "metadata": {},
   "outputs": [
    {
     "name": "stdout",
     "output_type": "stream",
     "text": [
      "Fungsi ohe_transform: parameter telah divalidasi.\n",
      "Fungsi ohe_transform: daftar nama kolom sebelum dilakukan pengkodean adalah ['person_age', 'person_income', 'person_home_ownership', 'person_emp_length', 'loan_intent', 'loan_grade', 'loan_amnt', 'loan_int_rate', 'loan_percent_income', 'cb_person_default_on_file', 'cb_person_cred_hist_length'].\n",
      "Fungsi ohe_transform: daftar nama kolom setelah dilakukan pengkodean adalah ['person_age', 'person_income', 'person_emp_length', 'loan_intent', 'loan_grade', 'loan_amnt', 'loan_int_rate', 'loan_percent_income', 'cb_person_default_on_file', 'cb_person_cred_hist_length', 'home_ownership_MORTGAGERENTOWNOTHER'].\n",
      "Fungsi ohe_transform: parameter telah divalidasi.\n",
      "Fungsi ohe_transform: daftar nama kolom sebelum dilakukan pengkodean adalah ['person_age', 'person_income', 'person_emp_length', 'loan_intent', 'loan_grade', 'loan_amnt', 'loan_int_rate', 'loan_percent_income', 'cb_person_default_on_file', 'cb_person_cred_hist_length', 'home_ownership_MORTGAGERENTOWNOTHER'].\n",
      "Fungsi ohe_transform: daftar nama kolom setelah dilakukan pengkodean adalah ['person_age', 'person_income', 'person_emp_length', 'loan_grade', 'loan_amnt', 'loan_int_rate', 'loan_percent_income', 'cb_person_default_on_file', 'cb_person_cred_hist_length', 'home_ownership_MORTGAGERENTOWNOTHER', 'loan_intent_DEBTCONSOLIDATION', 'loan_intent_EDUCATION', 'loan_intent_HOMEIMPROVEMENT', 'loan_intent_MEDICAL', 'loan_intent_PERSONAL', 'loan_intent_VENTURE'].\n",
      "Fungsi ohe_transform: parameter telah divalidasi.\n",
      "Fungsi ohe_transform: daftar nama kolom sebelum dilakukan pengkodean adalah ['person_age', 'person_income', 'person_emp_length', 'loan_grade', 'loan_amnt', 'loan_int_rate', 'loan_percent_income', 'cb_person_default_on_file', 'cb_person_cred_hist_length', 'home_ownership_MORTGAGERENTOWNOTHER', 'loan_intent_DEBTCONSOLIDATION', 'loan_intent_EDUCATION', 'loan_intent_HOMEIMPROVEMENT', 'loan_intent_MEDICAL', 'loan_intent_PERSONAL', 'loan_intent_VENTURE'].\n",
      "Fungsi ohe_transform: daftar nama kolom setelah dilakukan pengkodean adalah ['person_age', 'person_income', 'person_emp_length', 'loan_amnt', 'loan_int_rate', 'loan_percent_income', 'cb_person_default_on_file', 'cb_person_cred_hist_length', 'home_ownership_MORTGAGERENTOWNOTHER', 'loan_intent_DEBTCONSOLIDATION', 'loan_intent_EDUCATION', 'loan_intent_HOMEIMPROVEMENT', 'loan_intent_MEDICAL', 'loan_intent_PERSONAL', 'loan_intent_VENTURE', 'loan_grade_A', 'loan_grade_B', 'loan_grade_C', 'loan_grade_D', 'loan_grade_E', 'loan_grade_F', 'loan_grade_G'].\n",
      "Fungsi ohe_transform: parameter telah divalidasi.\n",
      "Fungsi ohe_transform: daftar nama kolom sebelum dilakukan pengkodean adalah ['person_age', 'person_income', 'person_emp_length', 'loan_amnt', 'loan_int_rate', 'loan_percent_income', 'cb_person_default_on_file', 'cb_person_cred_hist_length', 'home_ownership_MORTGAGERENTOWNOTHER', 'loan_intent_DEBTCONSOLIDATION', 'loan_intent_EDUCATION', 'loan_intent_HOMEIMPROVEMENT', 'loan_intent_MEDICAL', 'loan_intent_PERSONAL', 'loan_intent_VENTURE', 'loan_grade_A', 'loan_grade_B', 'loan_grade_C', 'loan_grade_D', 'loan_grade_E', 'loan_grade_F', 'loan_grade_G'].\n",
      "Fungsi ohe_transform: daftar nama kolom setelah dilakukan pengkodean adalah ['person_age', 'person_income', 'person_emp_length', 'loan_amnt', 'loan_int_rate', 'loan_percent_income', 'cb_person_cred_hist_length', 'home_ownership_MORTGAGERENTOWNOTHER', 'loan_intent_DEBTCONSOLIDATION', 'loan_intent_EDUCATION', 'loan_intent_HOMEIMPROVEMENT', 'loan_intent_MEDICAL', 'loan_intent_PERSONAL', 'loan_intent_VENTURE', 'loan_grade_A', 'loan_grade_B', 'loan_grade_C', 'loan_grade_D', 'loan_grade_E', 'loan_grade_F', 'loan_grade_G', 'default_onfile_N', 'default_onfile_Y'].\n"
     ]
    },
    {
     "name": "stderr",
     "output_type": "stream",
     "text": [
      "c:\\Users\\lolcandra\\miniconda3\\envs\\mlproces-pacmann\\lib\\site-packages\\sklearn\\base.py:486: UserWarning: X has feature names, but OneHotEncoder was fitted without feature names\n",
      "  warnings.warn(\n",
      "c:\\Users\\lolcandra\\miniconda3\\envs\\mlproces-pacmann\\lib\\site-packages\\sklearn\\base.py:486: UserWarning: X has feature names, but OneHotEncoder was fitted without feature names\n",
      "  warnings.warn(\n",
      "c:\\Users\\lolcandra\\miniconda3\\envs\\mlproces-pacmann\\lib\\site-packages\\sklearn\\base.py:486: UserWarning: X has feature names, but OneHotEncoder was fitted without feature names\n",
      "  warnings.warn(\n",
      "c:\\Users\\lolcandra\\miniconda3\\envs\\mlproces-pacmann\\lib\\site-packages\\sklearn\\base.py:486: UserWarning: X has feature names, but OneHotEncoder was fitted without feature names\n",
      "  warnings.warn(\n"
     ]
    }
   ],
   "source": [
    "# Encoding untuk X_valid\n",
    "X_valid = ohe_transform(X_valid, \"person_home_ownership\", \"home_ownership\", ohe_home_ownership)\n",
    "X_valid = ohe_transform(X_valid, \"loan_intent\", \"loan_intent\", ohe_loan_intent)\n",
    "X_valid = ohe_transform(X_valid, \"loan_grade\", \"loan_grade\", ohe_loan_grade)\n",
    "X_valid = ohe_transform(X_valid, \"cb_person_default_on_file\", \"default_onfile\", ohe_default_on_file)"
   ]
  },
  {
   "cell_type": "markdown",
   "metadata": {},
   "source": [
    "# g. Serialize Data\n"
   ]
  },
  {
   "cell_type": "code",
   "execution_count": 49,
   "metadata": {},
   "outputs": [],
   "source": [
    "# Call the serialize function to dump the dataset into .pkl files\n",
    "\n",
    "serialize_X_train = serialize_data(data=X_train,\n",
    "                                  path='../data/processed/X_train_prep.pkl')\n",
    "\n",
    "serialize_x_test = serialize_data(data=X_test,\n",
    "                               path='../data/processed/X_test_prep.pkl')\n",
    "\n",
    "serialize_x_valid = serialize_data(data=X_valid,\n",
    "                               path='../data/processed/X_valid_prep.pkl')\n"
   ]
  },
  {
   "cell_type": "code",
   "execution_count": 50,
   "metadata": {},
   "outputs": [],
   "source": [
    "# Call the serialize function to dump the dataset into .pkl files\n",
    "\n",
    "serialize_y_train = serialize_data(data=y_train,\n",
    "                                  path='../data/processed/y_train_prep.pkl')"
   ]
  },
  {
   "cell_type": "code",
   "execution_count": 51,
   "metadata": {},
   "outputs": [
    {
     "name": "stdout",
     "output_type": "stream",
     "text": [
      "X_train_prep shape: (25968, 23)\n",
      "y_train_prep shape: (25968,)\n"
     ]
    }
   ],
   "source": [
    "print(f\"X_train_prep shape: {X_train.shape}\")\n",
    "print(f\"y_train_prep shape: {y_train.shape}\")"
   ]
  }
 ],
 "metadata": {
  "kernelspec": {
   "display_name": "mlproces-pacmann",
   "language": "python",
   "name": "python3"
  },
  "language_info": {
   "codemirror_mode": {
    "name": "ipython",
    "version": 3
   },
   "file_extension": ".py",
   "mimetype": "text/x-python",
   "name": "python",
   "nbconvert_exporter": "python",
   "pygments_lexer": "ipython3",
   "version": "3.10.14"
  }
 },
 "nbformat": 4,
 "nbformat_minor": 2
}
