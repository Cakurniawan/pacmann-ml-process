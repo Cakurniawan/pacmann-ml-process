{
 "cells": [
  {
   "cell_type": "code",
   "execution_count": 29,
   "metadata": {},
   "outputs": [
    {
     "name": "stdout",
     "output_type": "stream",
     "text": [
      "D:\\Documents\\ai_engineer_pacmann\\ai_engineer_pacmann\\CANDRA_MLPROCESS\\src\n"
     ]
    },
    {
     "name": "stderr",
     "output_type": "stream",
     "text": [
      "c:\\Users\\lolcandra\\miniconda3\\envs\\mlproces-pacmann\\lib\\site-packages\\IPython\\core\\magics\\osm.py:417: UserWarning: This is now an optional IPython functionality, setting dhist requires you to install the `pickleshare` library.\n",
      "  self.shell.db['dhist'] = compress_dhist(dhist)[-100:]\n"
     ]
    }
   ],
   "source": [
    "# Change directory to the desired path\n",
    "%cd D:\\Documents\\ai_engineer_pacmann\\ai_engineer_pacmann\\CANDRA_MLPROCESS\\src\n",
    "\n",
    "import utils\n",
    "from imblearn.over_sampling import RandomOverSampler\n"
   ]
  },
  {
   "cell_type": "code",
   "execution_count": 30,
   "metadata": {},
   "outputs": [],
   "source": [
    "from utils import load_data\n",
    "from utils import split_input_output\n",
    "from utils import split_train_test\n",
    "from utils import serialize_data\n",
    "from utils import deserialize_data\n",
    "\n",
    "import pandas as pd\n",
    "import seaborn as sns\n",
    "import matplotlib.pyplot as plt\n",
    "from sklearn.model_selection import train_test_split\n",
    "from imblearn.over_sampling import RandomOverSampler\n"
   ]
  },
  {
   "cell_type": "code",
   "execution_count": 16,
   "metadata": {},
   "outputs": [
    {
     "data": {
      "text/plain": [
       "'D:\\\\Documents\\\\ai_engineer_pacmann\\\\ai_engineer_pacmann\\\\CANDRA_MLPROCESS\\\\src'"
      ]
     },
     "execution_count": 16,
     "metadata": {},
     "output_type": "execute_result"
    }
   ],
   "source": [
    "%pwd"
   ]
  },
  {
   "cell_type": "markdown",
   "metadata": {},
   "source": [
    "# Muat data dengan deserialize dari X_train_prep.pkl"
   ]
  },
  {
   "cell_type": "code",
   "execution_count": 36,
   "metadata": {},
   "outputs": [],
   "source": [
    "# Call the deserialize function to save the dataset into variable\n",
    "\n",
    "X_train_prep = deserialize_data(path='../data/processed/X_train_prep.pkl')\n",
    "y_train_prep = deserialize_data(path='../data/processed/y_train_prep.pkl')"
   ]
  },
  {
   "cell_type": "code",
   "execution_count": 37,
   "metadata": {},
   "outputs": [
    {
     "name": "stdout",
     "output_type": "stream",
     "text": [
      "X_train_prep shape: (25968, 23)\n",
      "y_train_prep shape: (25968,)\n"
     ]
    }
   ],
   "source": [
    "print(f\"X_train_prep shape: {X_train_prep.shape}\")\n",
    "print(f\"y_train_prep shape: {y_train_prep.shape}\")"
   ]
  },
  {
   "cell_type": "code",
   "execution_count": 38,
   "metadata": {},
   "outputs": [
    {
     "data": {
      "text/html": [
       "<div>\n",
       "<style scoped>\n",
       "    .dataframe tbody tr th:only-of-type {\n",
       "        vertical-align: middle;\n",
       "    }\n",
       "\n",
       "    .dataframe tbody tr th {\n",
       "        vertical-align: top;\n",
       "    }\n",
       "\n",
       "    .dataframe thead th {\n",
       "        text-align: right;\n",
       "    }\n",
       "</style>\n",
       "<table border=\"1\" class=\"dataframe\">\n",
       "  <thead>\n",
       "    <tr style=\"text-align: right;\">\n",
       "      <th></th>\n",
       "      <th>person_age</th>\n",
       "      <th>person_income</th>\n",
       "      <th>person_emp_length</th>\n",
       "      <th>loan_amnt</th>\n",
       "      <th>loan_int_rate</th>\n",
       "      <th>loan_percent_income</th>\n",
       "      <th>cb_person_cred_hist_length</th>\n",
       "      <th>home_ownership_MORTGAGERENTOWNOTHER</th>\n",
       "      <th>loan_intent_DEBTCONSOLIDATION</th>\n",
       "      <th>loan_intent_EDUCATION</th>\n",
       "      <th>...</th>\n",
       "      <th>loan_intent_VENTURE</th>\n",
       "      <th>loan_grade_A</th>\n",
       "      <th>loan_grade_B</th>\n",
       "      <th>loan_grade_C</th>\n",
       "      <th>loan_grade_D</th>\n",
       "      <th>loan_grade_E</th>\n",
       "      <th>loan_grade_F</th>\n",
       "      <th>loan_grade_G</th>\n",
       "      <th>default_onfile_N</th>\n",
       "      <th>default_onfile_Y</th>\n",
       "    </tr>\n",
       "  </thead>\n",
       "  <tbody>\n",
       "    <tr>\n",
       "      <th>15884</th>\n",
       "      <td>25</td>\n",
       "      <td>241875</td>\n",
       "      <td>4.0</td>\n",
       "      <td>16000</td>\n",
       "      <td>7.05</td>\n",
       "      <td>0.07</td>\n",
       "      <td>4</td>\n",
       "      <td>0.0</td>\n",
       "      <td>0.0</td>\n",
       "      <td>1.0</td>\n",
       "      <td>...</td>\n",
       "      <td>0.0</td>\n",
       "      <td>1.0</td>\n",
       "      <td>0.0</td>\n",
       "      <td>0.0</td>\n",
       "      <td>0.0</td>\n",
       "      <td>0.0</td>\n",
       "      <td>0.0</td>\n",
       "      <td>0.0</td>\n",
       "      <td>1.0</td>\n",
       "      <td>0.0</td>\n",
       "    </tr>\n",
       "    <tr>\n",
       "      <th>15138</th>\n",
       "      <td>21</td>\n",
       "      <td>18000</td>\n",
       "      <td>5.0</td>\n",
       "      <td>1500</td>\n",
       "      <td>12.18</td>\n",
       "      <td>0.08</td>\n",
       "      <td>4</td>\n",
       "      <td>0.0</td>\n",
       "      <td>0.0</td>\n",
       "      <td>0.0</td>\n",
       "      <td>...</td>\n",
       "      <td>0.0</td>\n",
       "      <td>0.0</td>\n",
       "      <td>1.0</td>\n",
       "      <td>0.0</td>\n",
       "      <td>0.0</td>\n",
       "      <td>0.0</td>\n",
       "      <td>0.0</td>\n",
       "      <td>0.0</td>\n",
       "      <td>1.0</td>\n",
       "      <td>0.0</td>\n",
       "    </tr>\n",
       "    <tr>\n",
       "      <th>7474</th>\n",
       "      <td>25</td>\n",
       "      <td>53000</td>\n",
       "      <td>10.0</td>\n",
       "      <td>16000</td>\n",
       "      <td>12.53</td>\n",
       "      <td>0.30</td>\n",
       "      <td>2</td>\n",
       "      <td>0.0</td>\n",
       "      <td>0.0</td>\n",
       "      <td>0.0</td>\n",
       "      <td>...</td>\n",
       "      <td>0.0</td>\n",
       "      <td>0.0</td>\n",
       "      <td>1.0</td>\n",
       "      <td>0.0</td>\n",
       "      <td>0.0</td>\n",
       "      <td>0.0</td>\n",
       "      <td>0.0</td>\n",
       "      <td>0.0</td>\n",
       "      <td>1.0</td>\n",
       "      <td>0.0</td>\n",
       "    </tr>\n",
       "    <tr>\n",
       "      <th>18212</th>\n",
       "      <td>28</td>\n",
       "      <td>16800</td>\n",
       "      <td>4.0</td>\n",
       "      <td>5000</td>\n",
       "      <td>13.98</td>\n",
       "      <td>0.30</td>\n",
       "      <td>8</td>\n",
       "      <td>0.0</td>\n",
       "      <td>0.0</td>\n",
       "      <td>0.0</td>\n",
       "      <td>...</td>\n",
       "      <td>0.0</td>\n",
       "      <td>0.0</td>\n",
       "      <td>0.0</td>\n",
       "      <td>1.0</td>\n",
       "      <td>0.0</td>\n",
       "      <td>0.0</td>\n",
       "      <td>0.0</td>\n",
       "      <td>0.0</td>\n",
       "      <td>1.0</td>\n",
       "      <td>0.0</td>\n",
       "    </tr>\n",
       "    <tr>\n",
       "      <th>6493</th>\n",
       "      <td>25</td>\n",
       "      <td>50000</td>\n",
       "      <td>2.0</td>\n",
       "      <td>10000</td>\n",
       "      <td>7.90</td>\n",
       "      <td>0.20</td>\n",
       "      <td>2</td>\n",
       "      <td>0.0</td>\n",
       "      <td>0.0</td>\n",
       "      <td>0.0</td>\n",
       "      <td>...</td>\n",
       "      <td>1.0</td>\n",
       "      <td>1.0</td>\n",
       "      <td>0.0</td>\n",
       "      <td>0.0</td>\n",
       "      <td>0.0</td>\n",
       "      <td>0.0</td>\n",
       "      <td>0.0</td>\n",
       "      <td>0.0</td>\n",
       "      <td>1.0</td>\n",
       "      <td>0.0</td>\n",
       "    </tr>\n",
       "  </tbody>\n",
       "</table>\n",
       "<p>5 rows × 23 columns</p>\n",
       "</div>"
      ],
      "text/plain": [
       "       person_age  person_income  person_emp_length  loan_amnt  loan_int_rate  \\\n",
       "15884          25         241875                4.0      16000           7.05   \n",
       "15138          21          18000                5.0       1500          12.18   \n",
       "7474           25          53000               10.0      16000          12.53   \n",
       "18212          28          16800                4.0       5000          13.98   \n",
       "6493           25          50000                2.0      10000           7.90   \n",
       "\n",
       "       loan_percent_income  cb_person_cred_hist_length  \\\n",
       "15884                 0.07                           4   \n",
       "15138                 0.08                           4   \n",
       "7474                  0.30                           2   \n",
       "18212                 0.30                           8   \n",
       "6493                  0.20                           2   \n",
       "\n",
       "       home_ownership_MORTGAGERENTOWNOTHER  loan_intent_DEBTCONSOLIDATION  \\\n",
       "15884                                  0.0                            0.0   \n",
       "15138                                  0.0                            0.0   \n",
       "7474                                   0.0                            0.0   \n",
       "18212                                  0.0                            0.0   \n",
       "6493                                   0.0                            0.0   \n",
       "\n",
       "       loan_intent_EDUCATION  ...  loan_intent_VENTURE  loan_grade_A  \\\n",
       "15884                    1.0  ...                  0.0           1.0   \n",
       "15138                    0.0  ...                  0.0           0.0   \n",
       "7474                     0.0  ...                  0.0           0.0   \n",
       "18212                    0.0  ...                  0.0           0.0   \n",
       "6493                     0.0  ...                  1.0           1.0   \n",
       "\n",
       "       loan_grade_B  loan_grade_C  loan_grade_D  loan_grade_E  loan_grade_F  \\\n",
       "15884           0.0           0.0           0.0           0.0           0.0   \n",
       "15138           1.0           0.0           0.0           0.0           0.0   \n",
       "7474            1.0           0.0           0.0           0.0           0.0   \n",
       "18212           0.0           1.0           0.0           0.0           0.0   \n",
       "6493            0.0           0.0           0.0           0.0           0.0   \n",
       "\n",
       "       loan_grade_G  default_onfile_N  default_onfile_Y  \n",
       "15884           0.0               1.0               0.0  \n",
       "15138           0.0               1.0               0.0  \n",
       "7474            0.0               1.0               0.0  \n",
       "18212           0.0               1.0               0.0  \n",
       "6493            0.0               1.0               0.0  \n",
       "\n",
       "[5 rows x 23 columns]"
      ]
     },
     "execution_count": 38,
     "metadata": {},
     "output_type": "execute_result"
    }
   ],
   "source": [
    "X_train_prep.head()"
   ]
  },
  {
   "cell_type": "markdown",
   "metadata": {},
   "source": [
    "# RandomOverSampler()"
   ]
  },
  {
   "cell_type": "code",
   "execution_count": 39,
   "metadata": {},
   "outputs": [],
   "source": [
    "# Membuat instance RandomOverSampler\n",
    "ros = RandomOverSampler(random_state=42)\n"
   ]
  },
  {
   "cell_type": "code",
   "execution_count": 40,
   "metadata": {},
   "outputs": [
    {
     "data": {
      "image/png": "[encoded data removed]",
      "text/plain": [
       "<Figure size 800x600 with 1 Axes>"
      ]
     },
     "metadata": {},
     "output_type": "display_data"
    }
   ],
   "source": [
    "# Mengubah y_train_prep dari Series menjadi DataFrame\n",
    "y_train_prep_df = pd.DataFrame(y_train_prep, columns=['loan_status'])\n",
    "\n",
    "# Membuat grafik countplot menggunakan seaborn\n",
    "plt.figure(figsize=(8, 6))\n",
    "sns.countplot(data=y_train_prep_df, x='loan_status', hue='loan_status')\n",
    "plt.title(\"Distribusi Label Sebelum Oversampling\")\n",
    "plt.xlabel(\"Loan Status\")\n",
    "plt.ylabel(\"Count\")\n",
    "plt.show()"
   ]
  },
  {
   "cell_type": "code",
   "execution_count": 41,
   "metadata": {},
   "outputs": [
    {
     "data": {
      "text/plain": [
       "(25968, 1)"
      ]
     },
     "execution_count": 41,
     "metadata": {},
     "output_type": "execute_result"
    }
   ],
   "source": [
    "y_train_prep_df.shape"
   ]
  },
  {
   "cell_type": "markdown",
   "metadata": {},
   "source": [
    "# Melakukan OverSampling"
   ]
  },
  {
   "cell_type": "code",
   "execution_count": 42,
   "metadata": {},
   "outputs": [
    {
     "name": "stdout",
     "output_type": "stream",
     "text": [
      "Sebelum oversampling:\n",
      "X_train_prep shape: (25968, 23)\n",
      "y_train_prep distribution:\n",
      "loan_status\n",
      "0              20291\n",
      "1               5677\n",
      "Name: count, dtype: int64\n",
      "\n",
      "Setelah oversampling:\n",
      "X_train_ros shape: (40582, 23)\n",
      "y_train_ros distribution:\n",
      "loan_status\n",
      "0              20291\n",
      "1              20291\n",
      "Name: count, dtype: int64\n"
     ]
    }
   ],
   "source": [
    "from imblearn.over_sampling import RandomOverSampler\n",
    "\n",
    "# Melakukan oversampling\n",
    "X_train_ros, y_train_ros = ros.fit_resample(X_train_prep, y_train_prep_df)\n",
    "\n",
    "# Menampilkan hasil oversampling\n",
    "print(\"Sebelum oversampling:\")\n",
    "print(f\"X_train_prep shape: {X_train_prep.shape}\")\n",
    "print(f\"y_train_prep distribution:\\n{y_train_prep_df.value_counts()}\")\n",
    "\n",
    "print(\"\\nSetelah oversampling:\")\n",
    "print(f\"X_train_ros shape: {X_train_ros.shape}\")\n",
    "print(f\"y_train_ros distribution:\\n{y_train_ros.value_counts()}\")\n"
   ]
  },
  {
   "cell_type": "code",
   "execution_count": 46,
   "metadata": {},
   "outputs": [
    {
     "data": {
      "image/png": "[encoded data removed]",
      "text/plain": [
       "<Figure size 1000x600 with 1 Axes>"
      ]
     },
     "metadata": {},
     "output_type": "display_data"
    }
   ],
   "source": [
    "# Plot countplot Setelah dilakukan OverSampling menggunakan Seaborn\n",
    "plt.figure(figsize=(10, 6))\n",
    "sns.countplot(data=y_train_ros, x='loan_status', hue='loan_status')\n",
    "plt.title('Count Plot of Loan Status After Oversampling')\n",
    "plt.xlabel('Loan Status')\n",
    "plt.ylabel('Count')\n",
    "plt.show()"
   ]
  },
  {
   "cell_type": "code",
   "execution_count": 47,
   "metadata": {},
   "outputs": [
    {
     "data": {
      "text/plain": [
       "['../data/processed/y_train_ros.pkl']"
      ]
     },
     "execution_count": 47,
     "metadata": {},
     "output_type": "execute_result"
    }
   ],
   "source": [
    "# Call the serialize function to dump the dataset into .pkl files\n",
    "\n",
    "serialize_data(data=X_train_ros, path='../data/processed/X_train_ros.pkl')\n",
    "serialize_data(data=y_train_ros, path='../data/processed/y_train_ros.pkl')"
   ]
  }
 ],
 "metadata": {
  "kernelspec": {
   "display_name": "mlproces-pacmann",
   "language": "python",
   "name": "python3"
  },
  "language_info": {
   "codemirror_mode": {
    "name": "ipython",
    "version": 3
   },
   "file_extension": ".py",
   "mimetype": "text/x-python",
   "name": "python",
   "nbconvert_exporter": "python",
   "pygments_lexer": "ipython3",
   "version": "3.10.14"
  }
 },
 "nbformat": 4,
 "nbformat_minor": 2
}
